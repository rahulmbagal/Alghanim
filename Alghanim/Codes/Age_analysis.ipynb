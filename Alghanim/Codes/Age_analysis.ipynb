{
 "cells": [
  {
   "cell_type": "code",
   "execution_count": 1,
   "metadata": {},
   "outputs": [],
   "source": [
    "import pandas as pd\n",
    "import numpy as np\n",
    "import datetime as dt"
   ]
  },
  {
   "cell_type": "code",
   "execution_count": 2,
   "metadata": {},
   "outputs": [],
   "source": [
    "pd.set_option('display.max_columns', None)\n",
    "pd.set_option('display.max_rows', None)\n",
    "pd.set_option('display.float_format', lambda x: '%.5f' % x)"
   ]
  },
  {
   "cell_type": "code",
   "execution_count": 5,
   "metadata": {},
   "outputs": [
    {
     "name": "stdout",
     "output_type": "stream",
     "text": [
      "(2240, 14)\n"
     ]
    }
   ],
   "source": [
    "data_USED_CAR = pd.read_excel(\"used_cars_cleaned.xlsx\")\n",
    "# data_NEW_CAR = pd.read_excel(\"data.xlsx\", sheet_name=\"NEW_CAR\")\n",
    "print (data_USED_CAR.shape)\n",
    "# print (data_NEW_CAR.shape)"
   ]
  },
  {
   "cell_type": "code",
   "execution_count": 6,
   "metadata": {
    "scrolled": false
   },
   "outputs": [
    {
     "data": {
      "text/plain": [
       "CUSTOMERID                     int64\n",
       "VEHICLEID                      int64\n",
       "TRANSACTION_DATE              object\n",
       "BRAND                         object\n",
       "MODEL                         object\n",
       "COLOUR                        object\n",
       "ACTUAL_PRICE                 float64\n",
       "DISCOUNTED RATIO             float64\n",
       "MODELYR                        int64\n",
       "STORECODE                      int64\n",
       "GENDER                        object\n",
       "CUS_BIRTH_DATE                object\n",
       "TRANSACTION_DATE_1    datetime64[ns]\n",
       "CUS_BIRTH_DATE_1      datetime64[ns]\n",
       "dtype: object"
      ]
     },
     "execution_count": 6,
     "metadata": {},
     "output_type": "execute_result"
    }
   ],
   "source": [
    "data_USED_CAR.dtypes"
   ]
  },
  {
   "cell_type": "code",
   "execution_count": 10,
   "metadata": {},
   "outputs": [
    {
     "data": {
      "text/plain": [
       "Timestamp('2068-11-19 00:00:00')"
      ]
     },
     "execution_count": 10,
     "metadata": {},
     "output_type": "execute_result"
    }
   ],
   "source": [
    "data_USED_CAR['CUS_BIRTH_DATE_1'].max()"
   ]
  },
  {
   "cell_type": "code",
   "execution_count": 11,
   "metadata": {},
   "outputs": [
    {
     "name": "stdout",
     "output_type": "stream",
     "text": [
      "2002-01-06\n"
     ]
    }
   ],
   "source": [
    "from datetime import datetime, timedelta, date\n",
    "\n",
    "d0 = date(2020, 1, 2)\n",
    "delta = d0 - timedelta(days=365*18)\n",
    "print(delta)\n"
   ]
  },
  {
   "cell_type": "code",
   "execution_count": 58,
   "metadata": {},
   "outputs": [
    {
     "name": "stdout",
     "output_type": "stream",
     "text": [
      "1960-01-17\n"
     ]
    }
   ],
   "source": [
    "from datetime import datetime, timedelta, date\n",
    "\n",
    "d0 = date(2020, 1, 2)\n",
    "delta = d0 - timedelta(days=365*60)\n",
    "print(delta)"
   ]
  },
  {
   "cell_type": "code",
   "execution_count": 14,
   "metadata": {},
   "outputs": [
    {
     "data": {
      "text/plain": [
       "(2240, 14)"
      ]
     },
     "execution_count": 14,
     "metadata": {},
     "output_type": "execute_result"
    }
   ],
   "source": [
    "data_USED_CAR.shape"
   ]
  },
  {
   "cell_type": "code",
   "execution_count": 47,
   "metadata": {},
   "outputs": [],
   "source": [
    "# test_1 = data_USED_CAR[data_USED_CAR['CUS_BIRTH_DATE_1'] <= \"01-06-2002\"]\n",
    "\n",
    "test_1 = data_USED_CAR"
   ]
  },
  {
   "cell_type": "code",
   "execution_count": 48,
   "metadata": {},
   "outputs": [
    {
     "data": {
      "text/html": [
       "<div>\n",
       "<style scoped>\n",
       "    .dataframe tbody tr th:only-of-type {\n",
       "        vertical-align: middle;\n",
       "    }\n",
       "\n",
       "    .dataframe tbody tr th {\n",
       "        vertical-align: top;\n",
       "    }\n",
       "\n",
       "    .dataframe thead th {\n",
       "        text-align: right;\n",
       "    }\n",
       "</style>\n",
       "<table border=\"1\" class=\"dataframe\">\n",
       "  <thead>\n",
       "    <tr style=\"text-align: right;\">\n",
       "      <th></th>\n",
       "      <th>CUSTOMERID</th>\n",
       "      <th>VEHICLEID</th>\n",
       "      <th>TRANSACTION_DATE</th>\n",
       "      <th>BRAND</th>\n",
       "      <th>MODEL</th>\n",
       "      <th>COLOUR</th>\n",
       "      <th>ACTUAL_PRICE</th>\n",
       "      <th>DISCOUNTED RATIO</th>\n",
       "      <th>MODELYR</th>\n",
       "      <th>STORECODE</th>\n",
       "      <th>GENDER</th>\n",
       "      <th>CUS_BIRTH_DATE</th>\n",
       "      <th>TRANSACTION_DATE_1</th>\n",
       "      <th>CUS_BIRTH_DATE_1</th>\n",
       "    </tr>\n",
       "  </thead>\n",
       "  <tbody>\n",
       "    <tr>\n",
       "      <th>0</th>\n",
       "      <td>2357269</td>\n",
       "      <td>243635</td>\n",
       "      <td>2017-12-27</td>\n",
       "      <td>D</td>\n",
       "      <td>MALIBU</td>\n",
       "      <td>Coppertino Metallic</td>\n",
       "      <td>14654.95175</td>\n",
       "      <td>0.06437</td>\n",
       "      <td>2018</td>\n",
       "      <td>88</td>\n",
       "      <td>F</td>\n",
       "      <td>95/02/12 00:00:00</td>\n",
       "      <td>2017-12-27</td>\n",
       "      <td>1995-02-12</td>\n",
       "    </tr>\n",
       "    <tr>\n",
       "      <th>1</th>\n",
       "      <td>1366119</td>\n",
       "      <td>262206</td>\n",
       "      <td>2019-08-28</td>\n",
       "      <td>G</td>\n",
       "      <td>TRAVERSE</td>\n",
       "      <td>Summit White</td>\n",
       "      <td>22436.11079</td>\n",
       "      <td>0.06758</td>\n",
       "      <td>2019</td>\n",
       "      <td>71</td>\n",
       "      <td>F</td>\n",
       "      <td>89/09/01 00:00:00</td>\n",
       "      <td>2019-08-28</td>\n",
       "      <td>1989-09-01</td>\n",
       "    </tr>\n",
       "    <tr>\n",
       "      <th>2</th>\n",
       "      <td>482589</td>\n",
       "      <td>231904</td>\n",
       "      <td>2017-01-31</td>\n",
       "      <td>G</td>\n",
       "      <td>TAHOE</td>\n",
       "      <td>Black</td>\n",
       "      <td>30488.93468</td>\n",
       "      <td>0.06047</td>\n",
       "      <td>2017</td>\n",
       "      <td>84</td>\n",
       "      <td>M</td>\n",
       "      <td>98/10/02 00:00:00</td>\n",
       "      <td>2017-01-31</td>\n",
       "      <td>1998-10-02</td>\n",
       "    </tr>\n",
       "    <tr>\n",
       "      <th>3</th>\n",
       "      <td>1893602</td>\n",
       "      <td>236944</td>\n",
       "      <td>2017-05-27</td>\n",
       "      <td>D</td>\n",
       "      <td>TRAX</td>\n",
       "      <td>Son of a Gun Grey Metallic</td>\n",
       "      <td>15797.80574</td>\n",
       "      <td>0.05965</td>\n",
       "      <td>2017</td>\n",
       "      <td>71</td>\n",
       "      <td>M</td>\n",
       "      <td>83/11/28 00:00:00</td>\n",
       "      <td>2017-05-27</td>\n",
       "      <td>1983-11-28</td>\n",
       "    </tr>\n",
       "    <tr>\n",
       "      <th>4</th>\n",
       "      <td>2741953</td>\n",
       "      <td>247966</td>\n",
       "      <td>2018-09-30</td>\n",
       "      <td>C</td>\n",
       "      <td>IMPALA</td>\n",
       "      <td>Blue Velvet Metallic</td>\n",
       "      <td>17787.27321</td>\n",
       "      <td>0.06601</td>\n",
       "      <td>2018</td>\n",
       "      <td>70</td>\n",
       "      <td>M</td>\n",
       "      <td>92/02/29 00:00:00</td>\n",
       "      <td>2018-09-30</td>\n",
       "      <td>1992-02-29</td>\n",
       "    </tr>\n",
       "  </tbody>\n",
       "</table>\n",
       "</div>"
      ],
      "text/plain": [
       "   CUSTOMERID  VEHICLEID TRANSACTION_DATE BRAND     MODEL  \\\n",
       "0     2357269     243635       2017-12-27     D    MALIBU   \n",
       "1     1366119     262206       2019-08-28     G  TRAVERSE   \n",
       "2      482589     231904       2017-01-31     G     TAHOE   \n",
       "3     1893602     236944       2017-05-27     D      TRAX   \n",
       "4     2741953     247966       2018-09-30     C    IMPALA   \n",
       "\n",
       "                       COLOUR  ACTUAL_PRICE  DISCOUNTED RATIO  MODELYR  \\\n",
       "0         Coppertino Metallic   14654.95175           0.06437     2018   \n",
       "1                Summit White   22436.11079           0.06758     2019   \n",
       "2                       Black   30488.93468           0.06047     2017   \n",
       "3  Son of a Gun Grey Metallic   15797.80574           0.05965     2017   \n",
       "4        Blue Velvet Metallic   17787.27321           0.06601     2018   \n",
       "\n",
       "   STORECODE GENDER     CUS_BIRTH_DATE TRANSACTION_DATE_1 CUS_BIRTH_DATE_1  \n",
       "0         88      F  95/02/12 00:00:00         2017-12-27       1995-02-12  \n",
       "1         71      F  89/09/01 00:00:00         2019-08-28       1989-09-01  \n",
       "2         84      M  98/10/02 00:00:00         2017-01-31       1998-10-02  \n",
       "3         71      M  83/11/28 00:00:00         2017-05-27       1983-11-28  \n",
       "4         70      M  92/02/29 00:00:00         2018-09-30       1992-02-29  "
      ]
     },
     "execution_count": 48,
     "metadata": {},
     "output_type": "execute_result"
    }
   ],
   "source": [
    "test_1.head()"
   ]
  },
  {
   "cell_type": "code",
   "execution_count": 49,
   "metadata": {},
   "outputs": [
    {
     "data": {
      "text/plain": [
       "Timestamp('1930-01-08 00:00:00')"
      ]
     },
     "execution_count": 49,
     "metadata": {},
     "output_type": "execute_result"
    }
   ],
   "source": [
    "test_1['CUS_BIRTH_DATE_1'].min()"
   ]
  },
  {
   "cell_type": "code",
   "execution_count": 50,
   "metadata": {},
   "outputs": [],
   "source": [
    "# test_1[['CUSTOMERID', 'TRANSACTION_DATE', 'CUS_BIRTH_DATE_1']]"
   ]
  },
  {
   "cell_type": "code",
   "execution_count": 51,
   "metadata": {},
   "outputs": [
    {
     "data": {
      "text/html": [
       "<div>\n",
       "<style scoped>\n",
       "    .dataframe tbody tr th:only-of-type {\n",
       "        vertical-align: middle;\n",
       "    }\n",
       "\n",
       "    .dataframe tbody tr th {\n",
       "        vertical-align: top;\n",
       "    }\n",
       "\n",
       "    .dataframe thead th {\n",
       "        text-align: right;\n",
       "    }\n",
       "</style>\n",
       "<table border=\"1\" class=\"dataframe\">\n",
       "  <thead>\n",
       "    <tr style=\"text-align: right;\">\n",
       "      <th></th>\n",
       "      <th>CUSTOMERID</th>\n",
       "      <th>TRANSACTION_DATE</th>\n",
       "      <th>CUS_BIRTH_DATE_1</th>\n",
       "    </tr>\n",
       "  </thead>\n",
       "  <tbody>\n",
       "    <tr>\n",
       "      <th>154</th>\n",
       "      <td>1845</td>\n",
       "      <td>2008-02-28</td>\n",
       "      <td>1991-07-01</td>\n",
       "    </tr>\n",
       "    <tr>\n",
       "      <th>2094</th>\n",
       "      <td>2667</td>\n",
       "      <td>2019-11-14</td>\n",
       "      <td>NaT</td>\n",
       "    </tr>\n",
       "    <tr>\n",
       "      <th>853</th>\n",
       "      <td>7838</td>\n",
       "      <td>2018-02-28</td>\n",
       "      <td>1986-07-21</td>\n",
       "    </tr>\n",
       "    <tr>\n",
       "      <th>995</th>\n",
       "      <td>8190</td>\n",
       "      <td>2019-03-28</td>\n",
       "      <td>1984-04-19</td>\n",
       "    </tr>\n",
       "    <tr>\n",
       "      <th>1212</th>\n",
       "      <td>10181</td>\n",
       "      <td>2017-10-11</td>\n",
       "      <td>1992-05-21</td>\n",
       "    </tr>\n",
       "  </tbody>\n",
       "</table>\n",
       "</div>"
      ],
      "text/plain": [
       "      CUSTOMERID TRANSACTION_DATE CUS_BIRTH_DATE_1\n",
       "154         1845       2008-02-28       1991-07-01\n",
       "2094        2667       2019-11-14              NaT\n",
       "853         7838       2018-02-28       1986-07-21\n",
       "995         8190       2019-03-28       1984-04-19\n",
       "1212       10181       2017-10-11       1992-05-21"
      ]
     },
     "execution_count": 51,
     "metadata": {},
     "output_type": "execute_result"
    }
   ],
   "source": [
    "transaction_id = test_1[['CUSTOMERID', 'TRANSACTION_DATE', 'CUS_BIRTH_DATE_1']]\n",
    "\n",
    "transaction_id = transaction_id.sort_values(['CUSTOMERID', 'TRANSACTION_DATE', 'CUS_BIRTH_DATE_1'])\n",
    "transaction_id.head()"
   ]
  },
  {
   "cell_type": "code",
   "execution_count": 93,
   "metadata": {},
   "outputs": [],
   "source": [
    "transaction_id_final = transaction_id.drop_duplicates(subset= 'CUSTOMERID' , keep =\"first\")"
   ]
  },
  {
   "cell_type": "code",
   "execution_count": 94,
   "metadata": {},
   "outputs": [
    {
     "data": {
      "text/html": [
       "<div>\n",
       "<style scoped>\n",
       "    .dataframe tbody tr th:only-of-type {\n",
       "        vertical-align: middle;\n",
       "    }\n",
       "\n",
       "    .dataframe tbody tr th {\n",
       "        vertical-align: top;\n",
       "    }\n",
       "\n",
       "    .dataframe thead th {\n",
       "        text-align: right;\n",
       "    }\n",
       "</style>\n",
       "<table border=\"1\" class=\"dataframe\">\n",
       "  <thead>\n",
       "    <tr style=\"text-align: right;\">\n",
       "      <th></th>\n",
       "      <th>CUSTOMERID</th>\n",
       "      <th>TRANSACTION_DATE</th>\n",
       "      <th>CUS_BIRTH_DATE_1</th>\n",
       "    </tr>\n",
       "  </thead>\n",
       "  <tbody>\n",
       "    <tr>\n",
       "      <th>154</th>\n",
       "      <td>1845</td>\n",
       "      <td>2008-02-28</td>\n",
       "      <td>1991-07-01</td>\n",
       "    </tr>\n",
       "    <tr>\n",
       "      <th>2094</th>\n",
       "      <td>2667</td>\n",
       "      <td>2019-11-14</td>\n",
       "      <td>NaT</td>\n",
       "    </tr>\n",
       "    <tr>\n",
       "      <th>853</th>\n",
       "      <td>7838</td>\n",
       "      <td>2018-02-28</td>\n",
       "      <td>1986-07-21</td>\n",
       "    </tr>\n",
       "    <tr>\n",
       "      <th>995</th>\n",
       "      <td>8190</td>\n",
       "      <td>2019-03-28</td>\n",
       "      <td>1984-04-19</td>\n",
       "    </tr>\n",
       "    <tr>\n",
       "      <th>1212</th>\n",
       "      <td>10181</td>\n",
       "      <td>2017-10-11</td>\n",
       "      <td>1992-05-21</td>\n",
       "    </tr>\n",
       "  </tbody>\n",
       "</table>\n",
       "</div>"
      ],
      "text/plain": [
       "      CUSTOMERID TRANSACTION_DATE CUS_BIRTH_DATE_1\n",
       "154         1845       2008-02-28       1991-07-01\n",
       "2094        2667       2019-11-14              NaT\n",
       "853         7838       2018-02-28       1986-07-21\n",
       "995         8190       2019-03-28       1984-04-19\n",
       "1212       10181       2017-10-11       1992-05-21"
      ]
     },
     "execution_count": 94,
     "metadata": {},
     "output_type": "execute_result"
    }
   ],
   "source": [
    "transaction_id_final.head()"
   ]
  },
  {
   "cell_type": "code",
   "execution_count": 95,
   "metadata": {},
   "outputs": [
    {
     "data": {
      "text/plain": [
       "(1654, 3)"
      ]
     },
     "execution_count": 95,
     "metadata": {},
     "output_type": "execute_result"
    }
   ],
   "source": [
    "transaction_id_final.shape"
   ]
  },
  {
   "cell_type": "code",
   "execution_count": 96,
   "metadata": {},
   "outputs": [
    {
     "data": {
      "text/plain": [
       "1654"
      ]
     },
     "execution_count": 96,
     "metadata": {},
     "output_type": "execute_result"
    }
   ],
   "source": [
    "transaction_id_final['CUSTOMERID'].nunique()"
   ]
  },
  {
   "cell_type": "code",
   "execution_count": 129,
   "metadata": {},
   "outputs": [
    {
     "data": {
      "text/plain": [
       "1352"
      ]
     },
     "execution_count": 129,
     "metadata": {},
     "output_type": "execute_result"
    }
   ],
   "source": [
    "transaction_id_final['CUS_BIRTH_DATE_1'].nunique()"
   ]
  },
  {
   "cell_type": "code",
   "execution_count": 97,
   "metadata": {},
   "outputs": [
    {
     "data": {
      "text/plain": [
       "Timestamp('2068-11-19 00:00:00')"
      ]
     },
     "execution_count": 97,
     "metadata": {},
     "output_type": "execute_result"
    }
   ],
   "source": [
    "transaction_id_final['CUS_BIRTH_DATE_1'].max()"
   ]
  },
  {
   "cell_type": "code",
   "execution_count": 98,
   "metadata": {},
   "outputs": [
    {
     "data": {
      "text/plain": [
       "Timestamp('1930-01-08 00:00:00')"
      ]
     },
     "execution_count": 98,
     "metadata": {},
     "output_type": "execute_result"
    }
   ],
   "source": [
    "transaction_id_final['CUS_BIRTH_DATE_1'].min()"
   ]
  },
  {
   "cell_type": "code",
   "execution_count": 99,
   "metadata": {},
   "outputs": [],
   "source": [
    "# transaction_id_final['CUS_BIRTH_DATE_1'] <= '01-01-1960'"
   ]
  },
  {
   "cell_type": "code",
   "execution_count": 100,
   "metadata": {},
   "outputs": [],
   "source": [
    "# transaction_id_final['CUS_BIRTH_DATE_2'] = np.where(transaction_id_final['CUS_BIRTH_DATE_1'] >= '01-06-2002', '01-06-2002', \n",
    "#                                                    np.where(transaction_id_final['CUS_BIRTH_DATE_1'] <= '01-01-1960', '01-01-1960',\\\n",
    "#                                                    transaction_id_final['CUS_BIRTH_DATE_1']))"
   ]
  },
  {
   "cell_type": "code",
   "execution_count": 101,
   "metadata": {},
   "outputs": [],
   "source": [
    "# 1960-01-17\n"
   ]
  },
  {
   "cell_type": "code",
   "execution_count": 102,
   "metadata": {},
   "outputs": [],
   "source": [
    "# transaction_id_final['CUS_BIRTH_DATE_2'] = np.where(transaction_id_final['CUS_BIRTH_DATE_1'] >='01-06-2002', '01-06-2002', transaction_id_final['CUS_BIRTH_DATE_1'])"
   ]
  },
  {
   "cell_type": "code",
   "execution_count": 121,
   "metadata": {},
   "outputs": [],
   "source": [
    "date_1 = transaction_id_final[transaction_id_final['CUS_BIRTH_DATE_1'] >='01-06-2002']\n",
    "date_2 = transaction_id_final[transaction_id_final['CUS_BIRTH_DATE_1'] <='01-01-1960']\n",
    "date_3 = transaction_id_final[(transaction_id_final['CUS_BIRTH_DATE_1'] >'01-01-1960') &  (transaction_id_final['CUS_BIRTH_DATE_1'] <'01-06-2002')]"
   ]
  },
  {
   "cell_type": "code",
   "execution_count": 122,
   "metadata": {},
   "outputs": [
    {
     "data": {
      "text/plain": [
       "(146, 3)"
      ]
     },
     "execution_count": 122,
     "metadata": {},
     "output_type": "execute_result"
    }
   ],
   "source": [
    "date_1.shape"
   ]
  },
  {
   "cell_type": "code",
   "execution_count": 123,
   "metadata": {},
   "outputs": [
    {
     "data": {
      "text/plain": [
       "(5, 3)"
      ]
     },
     "execution_count": 123,
     "metadata": {},
     "output_type": "execute_result"
    }
   ],
   "source": [
    "date_2.shape"
   ]
  },
  {
   "cell_type": "code",
   "execution_count": 124,
   "metadata": {},
   "outputs": [
    {
     "data": {
      "text/plain": [
       "(1306, 3)"
      ]
     },
     "execution_count": 124,
     "metadata": {},
     "output_type": "execute_result"
    }
   ],
   "source": [
    "date_3.shape"
   ]
  },
  {
   "cell_type": "code",
   "execution_count": 125,
   "metadata": {},
   "outputs": [
    {
     "name": "stderr",
     "output_type": "stream",
     "text": [
      "C:\\ProgramData\\Anaconda3\\lib\\site-packages\\ipykernel_launcher.py:1: SettingWithCopyWarning: \n",
      "A value is trying to be set on a copy of a slice from a DataFrame.\n",
      "Try using .loc[row_indexer,col_indexer] = value instead\n",
      "\n",
      "See the caveats in the documentation: http://pandas.pydata.org/pandas-docs/stable/indexing.html#indexing-view-versus-copy\n",
      "  \"\"\"Entry point for launching an IPython kernel.\n",
      "C:\\ProgramData\\Anaconda3\\lib\\site-packages\\ipykernel_launcher.py:2: SettingWithCopyWarning: \n",
      "A value is trying to be set on a copy of a slice from a DataFrame.\n",
      "Try using .loc[row_indexer,col_indexer] = value instead\n",
      "\n",
      "See the caveats in the documentation: http://pandas.pydata.org/pandas-docs/stable/indexing.html#indexing-view-versus-copy\n",
      "  \n",
      "C:\\ProgramData\\Anaconda3\\lib\\site-packages\\ipykernel_launcher.py:3: SettingWithCopyWarning: \n",
      "A value is trying to be set on a copy of a slice from a DataFrame.\n",
      "Try using .loc[row_indexer,col_indexer] = value instead\n",
      "\n",
      "See the caveats in the documentation: http://pandas.pydata.org/pandas-docs/stable/indexing.html#indexing-view-versus-copy\n",
      "  This is separate from the ipykernel package so we can avoid doing imports until\n"
     ]
    }
   ],
   "source": [
    "date_1['CUS_BIRTH_DATE_2'] = np.where(date_1['CUS_BIRTH_DATE_1'] >='01-06-2002', '01-06-2002', \"NA\")\n",
    "date_2['CUS_BIRTH_DATE_2'] = np.where(date_2['CUS_BIRTH_DATE_1'] <='01-01-1960', '01-01-1960', \"NA\")\n",
    "date_3['CUS_BIRTH_DATE_2'] = date_3['CUS_BIRTH_DATE_1']\n"
   ]
  },
  {
   "cell_type": "code",
   "execution_count": 126,
   "metadata": {},
   "outputs": [],
   "source": [
    "# date_1['CUS_BIRTH_DATE_2'] = np.where(date_1['CUS_BIRTH_DATE_1'] >='01-06-2002', '01-06-2002', \"NA\")\n",
    "# date_2['CUS_BIRTH_DATE_2'] = np.where(date_2['CUS_BIRTH_DATE_1'] <='01-01-1960', '01-01-1960', \"NA\")\n",
    "# date_3['CUS_BIRTH_DATE_2'] = date_3['CUS_BIRTH_DATE_1']"
   ]
  },
  {
   "cell_type": "code",
   "execution_count": 127,
   "metadata": {},
   "outputs": [],
   "source": [
    "date_filters = pd.concat([date_1, date_2, date_3], axis = 0)"
   ]
  },
  {
   "cell_type": "code",
   "execution_count": 128,
   "metadata": {},
   "outputs": [
    {
     "data": {
      "text/plain": [
       "(1457, 4)"
      ]
     },
     "execution_count": 128,
     "metadata": {},
     "output_type": "execute_result"
    }
   ],
   "source": [
    "date_filters.shape"
   ]
  },
  {
   "cell_type": "code",
   "execution_count": 151,
   "metadata": {},
   "outputs": [],
   "source": [
    "join = pd.merge(test_1, date_filters[['CUSTOMERID', 'CUS_BIRTH_DATE_2']], how = \"left\", on = 'CUSTOMERID')"
   ]
  },
  {
   "cell_type": "code",
   "execution_count": 152,
   "metadata": {},
   "outputs": [
    {
     "data": {
      "text/html": [
       "<div>\n",
       "<style scoped>\n",
       "    .dataframe tbody tr th:only-of-type {\n",
       "        vertical-align: middle;\n",
       "    }\n",
       "\n",
       "    .dataframe tbody tr th {\n",
       "        vertical-align: top;\n",
       "    }\n",
       "\n",
       "    .dataframe thead th {\n",
       "        text-align: right;\n",
       "    }\n",
       "</style>\n",
       "<table border=\"1\" class=\"dataframe\">\n",
       "  <thead>\n",
       "    <tr style=\"text-align: right;\">\n",
       "      <th></th>\n",
       "      <th>CUSTOMERID</th>\n",
       "      <th>VEHICLEID</th>\n",
       "      <th>TRANSACTION_DATE</th>\n",
       "      <th>BRAND</th>\n",
       "      <th>MODEL</th>\n",
       "      <th>COLOUR</th>\n",
       "      <th>ACTUAL_PRICE</th>\n",
       "      <th>DISCOUNTED RATIO</th>\n",
       "      <th>MODELYR</th>\n",
       "      <th>STORECODE</th>\n",
       "      <th>GENDER</th>\n",
       "      <th>CUS_BIRTH_DATE</th>\n",
       "      <th>TRANSACTION_DATE_1</th>\n",
       "      <th>CUS_BIRTH_DATE_1</th>\n",
       "      <th>CUS_BIRTH_DATE_2</th>\n",
       "    </tr>\n",
       "  </thead>\n",
       "  <tbody>\n",
       "    <tr>\n",
       "      <th>0</th>\n",
       "      <td>2357269</td>\n",
       "      <td>243635</td>\n",
       "      <td>2017-12-27</td>\n",
       "      <td>D</td>\n",
       "      <td>MALIBU</td>\n",
       "      <td>Coppertino Metallic</td>\n",
       "      <td>14654.95175</td>\n",
       "      <td>0.06437</td>\n",
       "      <td>2018</td>\n",
       "      <td>88</td>\n",
       "      <td>F</td>\n",
       "      <td>95/02/12 00:00:00</td>\n",
       "      <td>2017-12-27</td>\n",
       "      <td>1995-02-12</td>\n",
       "      <td>1986-11-30 00:00:00</td>\n",
       "    </tr>\n",
       "    <tr>\n",
       "      <th>1</th>\n",
       "      <td>1366119</td>\n",
       "      <td>262206</td>\n",
       "      <td>2019-08-28</td>\n",
       "      <td>G</td>\n",
       "      <td>TRAVERSE</td>\n",
       "      <td>Summit White</td>\n",
       "      <td>22436.11079</td>\n",
       "      <td>0.06758</td>\n",
       "      <td>2019</td>\n",
       "      <td>71</td>\n",
       "      <td>F</td>\n",
       "      <td>89/09/01 00:00:00</td>\n",
       "      <td>2019-08-28</td>\n",
       "      <td>1989-09-01</td>\n",
       "      <td>1989-09-01 00:00:00</td>\n",
       "    </tr>\n",
       "    <tr>\n",
       "      <th>2</th>\n",
       "      <td>482589</td>\n",
       "      <td>231904</td>\n",
       "      <td>2017-01-31</td>\n",
       "      <td>G</td>\n",
       "      <td>TAHOE</td>\n",
       "      <td>Black</td>\n",
       "      <td>30488.93468</td>\n",
       "      <td>0.06047</td>\n",
       "      <td>2017</td>\n",
       "      <td>84</td>\n",
       "      <td>M</td>\n",
       "      <td>98/10/02 00:00:00</td>\n",
       "      <td>2017-01-31</td>\n",
       "      <td>1998-10-02</td>\n",
       "      <td>1980-12-01 00:00:00</td>\n",
       "    </tr>\n",
       "    <tr>\n",
       "      <th>3</th>\n",
       "      <td>1893602</td>\n",
       "      <td>236944</td>\n",
       "      <td>2017-05-27</td>\n",
       "      <td>D</td>\n",
       "      <td>TRAX</td>\n",
       "      <td>Son of a Gun Grey Metallic</td>\n",
       "      <td>15797.80574</td>\n",
       "      <td>0.05965</td>\n",
       "      <td>2017</td>\n",
       "      <td>71</td>\n",
       "      <td>M</td>\n",
       "      <td>83/11/28 00:00:00</td>\n",
       "      <td>2017-05-27</td>\n",
       "      <td>1983-11-28</td>\n",
       "      <td>1983-11-28 00:00:00</td>\n",
       "    </tr>\n",
       "    <tr>\n",
       "      <th>4</th>\n",
       "      <td>2741953</td>\n",
       "      <td>247966</td>\n",
       "      <td>2018-09-30</td>\n",
       "      <td>C</td>\n",
       "      <td>IMPALA</td>\n",
       "      <td>Blue Velvet Metallic</td>\n",
       "      <td>17787.27321</td>\n",
       "      <td>0.06601</td>\n",
       "      <td>2018</td>\n",
       "      <td>70</td>\n",
       "      <td>M</td>\n",
       "      <td>92/02/29 00:00:00</td>\n",
       "      <td>2018-09-30</td>\n",
       "      <td>1992-02-29</td>\n",
       "      <td>1984-08-03 00:00:00</td>\n",
       "    </tr>\n",
       "  </tbody>\n",
       "</table>\n",
       "</div>"
      ],
      "text/plain": [
       "   CUSTOMERID  VEHICLEID TRANSACTION_DATE BRAND     MODEL  \\\n",
       "0     2357269     243635       2017-12-27     D    MALIBU   \n",
       "1     1366119     262206       2019-08-28     G  TRAVERSE   \n",
       "2      482589     231904       2017-01-31     G     TAHOE   \n",
       "3     1893602     236944       2017-05-27     D      TRAX   \n",
       "4     2741953     247966       2018-09-30     C    IMPALA   \n",
       "\n",
       "                       COLOUR  ACTUAL_PRICE  DISCOUNTED RATIO  MODELYR  \\\n",
       "0         Coppertino Metallic   14654.95175           0.06437     2018   \n",
       "1                Summit White   22436.11079           0.06758     2019   \n",
       "2                       Black   30488.93468           0.06047     2017   \n",
       "3  Son of a Gun Grey Metallic   15797.80574           0.05965     2017   \n",
       "4        Blue Velvet Metallic   17787.27321           0.06601     2018   \n",
       "\n",
       "   STORECODE GENDER     CUS_BIRTH_DATE TRANSACTION_DATE_1 CUS_BIRTH_DATE_1  \\\n",
       "0         88      F  95/02/12 00:00:00         2017-12-27       1995-02-12   \n",
       "1         71      F  89/09/01 00:00:00         2019-08-28       1989-09-01   \n",
       "2         84      M  98/10/02 00:00:00         2017-01-31       1998-10-02   \n",
       "3         71      M  83/11/28 00:00:00         2017-05-27       1983-11-28   \n",
       "4         70      M  92/02/29 00:00:00         2018-09-30       1992-02-29   \n",
       "\n",
       "      CUS_BIRTH_DATE_2  \n",
       "0  1986-11-30 00:00:00  \n",
       "1  1989-09-01 00:00:00  \n",
       "2  1980-12-01 00:00:00  \n",
       "3  1983-11-28 00:00:00  \n",
       "4  1984-08-03 00:00:00  "
      ]
     },
     "execution_count": 152,
     "metadata": {},
     "output_type": "execute_result"
    }
   ],
   "source": [
    "join.head()"
   ]
  },
  {
   "cell_type": "code",
   "execution_count": 133,
   "metadata": {},
   "outputs": [],
   "source": [
    "# analysis"
   ]
  },
  {
   "cell_type": "code",
   "execution_count": 153,
   "metadata": {},
   "outputs": [],
   "source": [
    "DOB = join[~join['CUS_BIRTH_DATE_2'].isna()]"
   ]
  },
  {
   "cell_type": "code",
   "execution_count": 154,
   "metadata": {},
   "outputs": [
    {
     "data": {
      "text/plain": [
       "CUSTOMERID                     int64\n",
       "VEHICLEID                      int64\n",
       "TRANSACTION_DATE              object\n",
       "BRAND                         object\n",
       "MODEL                         object\n",
       "COLOUR                        object\n",
       "ACTUAL_PRICE                 float64\n",
       "DISCOUNTED RATIO             float64\n",
       "MODELYR                        int64\n",
       "STORECODE                      int64\n",
       "GENDER                        object\n",
       "CUS_BIRTH_DATE                object\n",
       "TRANSACTION_DATE_1    datetime64[ns]\n",
       "CUS_BIRTH_DATE_1      datetime64[ns]\n",
       "CUS_BIRTH_DATE_2              object\n",
       "dtype: object"
      ]
     },
     "execution_count": 154,
     "metadata": {},
     "output_type": "execute_result"
    }
   ],
   "source": [
    "DOB.dtypes"
   ]
  },
  {
   "cell_type": "code",
   "execution_count": 155,
   "metadata": {},
   "outputs": [
    {
     "name": "stderr",
     "output_type": "stream",
     "text": [
      "C:\\ProgramData\\Anaconda3\\lib\\site-packages\\ipykernel_launcher.py:1: SettingWithCopyWarning: \n",
      "A value is trying to be set on a copy of a slice from a DataFrame.\n",
      "Try using .loc[row_indexer,col_indexer] = value instead\n",
      "\n",
      "See the caveats in the documentation: http://pandas.pydata.org/pandas-docs/stable/indexing.html#indexing-view-versus-copy\n",
      "  \"\"\"Entry point for launching an IPython kernel.\n"
     ]
    }
   ],
   "source": [
    "DOB['CUS_BIRTH_DATE_2']  = pd.to_datetime(DOB['CUS_BIRTH_DATE_2'])"
   ]
  },
  {
   "cell_type": "code",
   "execution_count": 156,
   "metadata": {},
   "outputs": [
    {
     "name": "stderr",
     "output_type": "stream",
     "text": [
      "C:\\ProgramData\\Anaconda3\\lib\\site-packages\\ipykernel_launcher.py:2: SettingWithCopyWarning: \n",
      "A value is trying to be set on a copy of a slice from a DataFrame.\n",
      "Try using .loc[row_indexer,col_indexer] = value instead\n",
      "\n",
      "See the caveats in the documentation: http://pandas.pydata.org/pandas-docs/stable/indexing.html#indexing-view-versus-copy\n",
      "  \n"
     ]
    }
   ],
   "source": [
    "ref_date = dt.datetime.now()\n",
    "DOB['age'] = DOB['CUS_BIRTH_DATE_2'].apply(lambda x: len(pd.date_range(start = x, end = ref_date, freq = 'Y')))"
   ]
  },
  {
   "cell_type": "code",
   "execution_count": 157,
   "metadata": {},
   "outputs": [
    {
     "data": {
      "text/html": [
       "<div>\n",
       "<style scoped>\n",
       "    .dataframe tbody tr th:only-of-type {\n",
       "        vertical-align: middle;\n",
       "    }\n",
       "\n",
       "    .dataframe tbody tr th {\n",
       "        vertical-align: top;\n",
       "    }\n",
       "\n",
       "    .dataframe thead th {\n",
       "        text-align: right;\n",
       "    }\n",
       "</style>\n",
       "<table border=\"1\" class=\"dataframe\">\n",
       "  <thead>\n",
       "    <tr style=\"text-align: right;\">\n",
       "      <th></th>\n",
       "      <th>CUSTOMERID</th>\n",
       "      <th>VEHICLEID</th>\n",
       "      <th>TRANSACTION_DATE</th>\n",
       "      <th>BRAND</th>\n",
       "      <th>MODEL</th>\n",
       "      <th>COLOUR</th>\n",
       "      <th>ACTUAL_PRICE</th>\n",
       "      <th>DISCOUNTED RATIO</th>\n",
       "      <th>MODELYR</th>\n",
       "      <th>STORECODE</th>\n",
       "      <th>GENDER</th>\n",
       "      <th>CUS_BIRTH_DATE</th>\n",
       "      <th>TRANSACTION_DATE_1</th>\n",
       "      <th>CUS_BIRTH_DATE_1</th>\n",
       "      <th>CUS_BIRTH_DATE_2</th>\n",
       "      <th>age</th>\n",
       "    </tr>\n",
       "  </thead>\n",
       "  <tbody>\n",
       "    <tr>\n",
       "      <th>0</th>\n",
       "      <td>2357269</td>\n",
       "      <td>243635</td>\n",
       "      <td>2017-12-27</td>\n",
       "      <td>D</td>\n",
       "      <td>MALIBU</td>\n",
       "      <td>Coppertino Metallic</td>\n",
       "      <td>14654.95175</td>\n",
       "      <td>0.06437</td>\n",
       "      <td>2018</td>\n",
       "      <td>88</td>\n",
       "      <td>F</td>\n",
       "      <td>95/02/12 00:00:00</td>\n",
       "      <td>2017-12-27</td>\n",
       "      <td>1995-02-12</td>\n",
       "      <td>1986-11-30</td>\n",
       "      <td>34</td>\n",
       "    </tr>\n",
       "    <tr>\n",
       "      <th>1</th>\n",
       "      <td>1366119</td>\n",
       "      <td>262206</td>\n",
       "      <td>2019-08-28</td>\n",
       "      <td>G</td>\n",
       "      <td>TRAVERSE</td>\n",
       "      <td>Summit White</td>\n",
       "      <td>22436.11079</td>\n",
       "      <td>0.06758</td>\n",
       "      <td>2019</td>\n",
       "      <td>71</td>\n",
       "      <td>F</td>\n",
       "      <td>89/09/01 00:00:00</td>\n",
       "      <td>2019-08-28</td>\n",
       "      <td>1989-09-01</td>\n",
       "      <td>1989-09-01</td>\n",
       "      <td>31</td>\n",
       "    </tr>\n",
       "    <tr>\n",
       "      <th>2</th>\n",
       "      <td>482589</td>\n",
       "      <td>231904</td>\n",
       "      <td>2017-01-31</td>\n",
       "      <td>G</td>\n",
       "      <td>TAHOE</td>\n",
       "      <td>Black</td>\n",
       "      <td>30488.93468</td>\n",
       "      <td>0.06047</td>\n",
       "      <td>2017</td>\n",
       "      <td>84</td>\n",
       "      <td>M</td>\n",
       "      <td>98/10/02 00:00:00</td>\n",
       "      <td>2017-01-31</td>\n",
       "      <td>1998-10-02</td>\n",
       "      <td>1980-12-01</td>\n",
       "      <td>40</td>\n",
       "    </tr>\n",
       "    <tr>\n",
       "      <th>3</th>\n",
       "      <td>1893602</td>\n",
       "      <td>236944</td>\n",
       "      <td>2017-05-27</td>\n",
       "      <td>D</td>\n",
       "      <td>TRAX</td>\n",
       "      <td>Son of a Gun Grey Metallic</td>\n",
       "      <td>15797.80574</td>\n",
       "      <td>0.05965</td>\n",
       "      <td>2017</td>\n",
       "      <td>71</td>\n",
       "      <td>M</td>\n",
       "      <td>83/11/28 00:00:00</td>\n",
       "      <td>2017-05-27</td>\n",
       "      <td>1983-11-28</td>\n",
       "      <td>1983-11-28</td>\n",
       "      <td>37</td>\n",
       "    </tr>\n",
       "    <tr>\n",
       "      <th>4</th>\n",
       "      <td>2741953</td>\n",
       "      <td>247966</td>\n",
       "      <td>2018-09-30</td>\n",
       "      <td>C</td>\n",
       "      <td>IMPALA</td>\n",
       "      <td>Blue Velvet Metallic</td>\n",
       "      <td>17787.27321</td>\n",
       "      <td>0.06601</td>\n",
       "      <td>2018</td>\n",
       "      <td>70</td>\n",
       "      <td>M</td>\n",
       "      <td>92/02/29 00:00:00</td>\n",
       "      <td>2018-09-30</td>\n",
       "      <td>1992-02-29</td>\n",
       "      <td>1984-08-03</td>\n",
       "      <td>36</td>\n",
       "    </tr>\n",
       "  </tbody>\n",
       "</table>\n",
       "</div>"
      ],
      "text/plain": [
       "   CUSTOMERID  VEHICLEID TRANSACTION_DATE BRAND     MODEL  \\\n",
       "0     2357269     243635       2017-12-27     D    MALIBU   \n",
       "1     1366119     262206       2019-08-28     G  TRAVERSE   \n",
       "2      482589     231904       2017-01-31     G     TAHOE   \n",
       "3     1893602     236944       2017-05-27     D      TRAX   \n",
       "4     2741953     247966       2018-09-30     C    IMPALA   \n",
       "\n",
       "                       COLOUR  ACTUAL_PRICE  DISCOUNTED RATIO  MODELYR  \\\n",
       "0         Coppertino Metallic   14654.95175           0.06437     2018   \n",
       "1                Summit White   22436.11079           0.06758     2019   \n",
       "2                       Black   30488.93468           0.06047     2017   \n",
       "3  Son of a Gun Grey Metallic   15797.80574           0.05965     2017   \n",
       "4        Blue Velvet Metallic   17787.27321           0.06601     2018   \n",
       "\n",
       "   STORECODE GENDER     CUS_BIRTH_DATE TRANSACTION_DATE_1 CUS_BIRTH_DATE_1  \\\n",
       "0         88      F  95/02/12 00:00:00         2017-12-27       1995-02-12   \n",
       "1         71      F  89/09/01 00:00:00         2019-08-28       1989-09-01   \n",
       "2         84      M  98/10/02 00:00:00         2017-01-31       1998-10-02   \n",
       "3         71      M  83/11/28 00:00:00         2017-05-27       1983-11-28   \n",
       "4         70      M  92/02/29 00:00:00         2018-09-30       1992-02-29   \n",
       "\n",
       "  CUS_BIRTH_DATE_2  age  \n",
       "0       1986-11-30   34  \n",
       "1       1989-09-01   31  \n",
       "2       1980-12-01   40  \n",
       "3       1983-11-28   37  \n",
       "4       1984-08-03   36  "
      ]
     },
     "execution_count": 157,
     "metadata": {},
     "output_type": "execute_result"
    }
   ],
   "source": [
    "DOB.head()"
   ]
  },
  {
   "cell_type": "code",
   "execution_count": 158,
   "metadata": {},
   "outputs": [
    {
     "data": {
      "text/plain": [
       "CUSTOMERID                     int64\n",
       "VEHICLEID                      int64\n",
       "TRANSACTION_DATE              object\n",
       "BRAND                         object\n",
       "MODEL                         object\n",
       "COLOUR                        object\n",
       "ACTUAL_PRICE                 float64\n",
       "DISCOUNTED RATIO             float64\n",
       "MODELYR                        int64\n",
       "STORECODE                      int64\n",
       "GENDER                        object\n",
       "CUS_BIRTH_DATE                object\n",
       "TRANSACTION_DATE_1    datetime64[ns]\n",
       "CUS_BIRTH_DATE_1      datetime64[ns]\n",
       "CUS_BIRTH_DATE_2      datetime64[ns]\n",
       "age                            int64\n",
       "dtype: object"
      ]
     },
     "execution_count": 158,
     "metadata": {},
     "output_type": "execute_result"
    }
   ],
   "source": [
    "DOB.dtypes"
   ]
  },
  {
   "cell_type": "code",
   "execution_count": 159,
   "metadata": {},
   "outputs": [],
   "source": [
    "# 18-24, 25-29, 30-34, 35-39, 40-44, 45+)"
   ]
  },
  {
   "cell_type": "code",
   "execution_count": 160,
   "metadata": {},
   "outputs": [
    {
     "name": "stderr",
     "output_type": "stream",
     "text": [
      "C:\\ProgramData\\Anaconda3\\lib\\site-packages\\ipykernel_launcher.py:5: SettingWithCopyWarning: \n",
      "A value is trying to be set on a copy of a slice from a DataFrame.\n",
      "Try using .loc[row_indexer,col_indexer] = value instead\n",
      "\n",
      "See the caveats in the documentation: http://pandas.pydata.org/pandas-docs/stable/indexing.html#indexing-view-versus-copy\n",
      "  \"\"\"\n"
     ]
    }
   ],
   "source": [
    "DOB[\"age_bucket\"] = np.where((DOB['age'] >= 18) & (DOB['age'] <= 24), '18-24', \n",
    "                             np.where((DOB['age'] >= 25) & (DOB['age'] <= 29), '25-29',\n",
    "                                     np.where((DOB['age'] >= 30) & (DOB['age'] <= 34), '30-34',\n",
    "                                             np.where((DOB['age'] >= 35) & (DOB['age'] <= 39), '35-39',\n",
    "                                                     np.where((DOB['age'] >= 40) & (DOB['age'] <= 44), '40-44', '45+'\n",
    "                                                             )))))"
   ]
  },
  {
   "cell_type": "code",
   "execution_count": 161,
   "metadata": {},
   "outputs": [],
   "source": [
    "# DOB[\"age_bucket\"]"
   ]
  },
  {
   "cell_type": "code",
   "execution_count": 150,
   "metadata": {},
   "outputs": [],
   "source": [
    "##############################################################"
   ]
  },
  {
   "cell_type": "code",
   "execution_count": 162,
   "metadata": {},
   "outputs": [
    {
     "name": "stderr",
     "output_type": "stream",
     "text": [
      "C:\\ProgramData\\Anaconda3\\lib\\site-packages\\ipykernel_launcher.py:1: SettingWithCopyWarning: \n",
      "A value is trying to be set on a copy of a slice from a DataFrame.\n",
      "Try using .loc[row_indexer,col_indexer] = value instead\n",
      "\n",
      "See the caveats in the documentation: http://pandas.pydata.org/pandas-docs/stable/indexing.html#indexing-view-versus-copy\n",
      "  \"\"\"Entry point for launching an IPython kernel.\n",
      "C:\\ProgramData\\Anaconda3\\lib\\site-packages\\ipykernel_launcher.py:2: SettingWithCopyWarning: \n",
      "A value is trying to be set on a copy of a slice from a DataFrame.\n",
      "Try using .loc[row_indexer,col_indexer] = value instead\n",
      "\n",
      "See the caveats in the documentation: http://pandas.pydata.org/pandas-docs/stable/indexing.html#indexing-view-versus-copy\n",
      "  \n"
     ]
    }
   ],
   "source": [
    "DOB['profit_gain'] = DOB['ACTUAL_PRICE'] * DOB['DISCOUNTED RATIO']\n",
    "DOB['selling_price'] = DOB['ACTUAL_PRICE'] + DOB['profit_gain']"
   ]
  },
  {
   "cell_type": "code",
   "execution_count": 164,
   "metadata": {},
   "outputs": [],
   "source": [
    "DOB = DOB[DOB['ACTUAL_PRICE'] < 100000]\n",
    "DOB = DOB[DOB['ACTUAL_PRICE'] > 1]\n",
    "DOB = DOB[DOB['DISCOUNTED RATIO'] < 1]"
   ]
  },
  {
   "cell_type": "code",
   "execution_count": 167,
   "metadata": {},
   "outputs": [
    {
     "name": "stderr",
     "output_type": "stream",
     "text": [
      "C:\\ProgramData\\Anaconda3\\lib\\site-packages\\ipykernel_launcher.py:7: SettingWithCopyWarning: \n",
      "A value is trying to be set on a copy of a slice from a DataFrame.\n",
      "Try using .loc[row_indexer,col_indexer] = value instead\n",
      "\n",
      "See the caveats in the documentation: http://pandas.pydata.org/pandas-docs/stable/indexing.html#indexing-view-versus-copy\n",
      "  import sys\n"
     ]
    }
   ],
   "source": [
    "transaction_id = DOB[['CUSTOMERID', 'TRANSACTION_DATE_1']]\n",
    "transaction_id = transaction_id.sort_values(['CUSTOMERID', 'TRANSACTION_DATE_1'])\n",
    "transaction_id.head()\n",
    "\n",
    "transaction_id_final = transaction_id.drop_duplicates(keep =\"first\")\n",
    "\n",
    "transaction_id_final[\"transaction_id\"] = np.arange(transaction_id_final.shape[0])+1\n",
    "\n",
    "\n",
    "DOB  = pd.merge(DOB, transaction_id_final[['CUSTOMERID', 'transaction_id']], on = 'CUSTOMERID', how = \"left\")"
   ]
  },
  {
   "cell_type": "code",
   "execution_count": 168,
   "metadata": {},
   "outputs": [
    {
     "data": {
      "text/plain": [
       "False    5392\n",
       "Name: transaction_id, dtype: int64"
      ]
     },
     "execution_count": 168,
     "metadata": {},
     "output_type": "execute_result"
    }
   ],
   "source": [
    "DOB['transaction_id'].isna().value_counts()"
   ]
  },
  {
   "cell_type": "code",
   "execution_count": 169,
   "metadata": {},
   "outputs": [
    {
     "data": {
      "text/html": [
       "<div>\n",
       "<style scoped>\n",
       "    .dataframe tbody tr th:only-of-type {\n",
       "        vertical-align: middle;\n",
       "    }\n",
       "\n",
       "    .dataframe tbody tr th {\n",
       "        vertical-align: top;\n",
       "    }\n",
       "\n",
       "    .dataframe thead th {\n",
       "        text-align: right;\n",
       "    }\n",
       "</style>\n",
       "<table border=\"1\" class=\"dataframe\">\n",
       "  <thead>\n",
       "    <tr style=\"text-align: right;\">\n",
       "      <th></th>\n",
       "      <th>CUSTOMERID</th>\n",
       "      <th>VEHICLEID</th>\n",
       "      <th>TRANSACTION_DATE</th>\n",
       "      <th>BRAND</th>\n",
       "      <th>MODEL</th>\n",
       "      <th>COLOUR</th>\n",
       "      <th>ACTUAL_PRICE</th>\n",
       "      <th>DISCOUNTED RATIO</th>\n",
       "      <th>MODELYR</th>\n",
       "      <th>STORECODE</th>\n",
       "      <th>GENDER</th>\n",
       "      <th>CUS_BIRTH_DATE</th>\n",
       "      <th>TRANSACTION_DATE_1</th>\n",
       "      <th>CUS_BIRTH_DATE_1</th>\n",
       "      <th>CUS_BIRTH_DATE_2</th>\n",
       "      <th>age</th>\n",
       "      <th>age_bucket</th>\n",
       "      <th>profit_gain</th>\n",
       "      <th>selling_price</th>\n",
       "      <th>transaction_id</th>\n",
       "    </tr>\n",
       "  </thead>\n",
       "  <tbody>\n",
       "    <tr>\n",
       "      <th>0</th>\n",
       "      <td>2357269</td>\n",
       "      <td>243635</td>\n",
       "      <td>2017-12-27</td>\n",
       "      <td>D</td>\n",
       "      <td>MALIBU</td>\n",
       "      <td>Coppertino Metallic</td>\n",
       "      <td>14654.95175</td>\n",
       "      <td>0.06437</td>\n",
       "      <td>2018</td>\n",
       "      <td>88</td>\n",
       "      <td>F</td>\n",
       "      <td>95/02/12 00:00:00</td>\n",
       "      <td>2017-12-27</td>\n",
       "      <td>1995-02-12</td>\n",
       "      <td>1986-11-30</td>\n",
       "      <td>34</td>\n",
       "      <td>30-34</td>\n",
       "      <td>943.36906</td>\n",
       "      <td>15598.32081</td>\n",
       "      <td>750</td>\n",
       "    </tr>\n",
       "    <tr>\n",
       "      <th>1</th>\n",
       "      <td>1366119</td>\n",
       "      <td>262206</td>\n",
       "      <td>2019-08-28</td>\n",
       "      <td>G</td>\n",
       "      <td>TRAVERSE</td>\n",
       "      <td>Summit White</td>\n",
       "      <td>22436.11079</td>\n",
       "      <td>0.06758</td>\n",
       "      <td>2019</td>\n",
       "      <td>71</td>\n",
       "      <td>F</td>\n",
       "      <td>89/09/01 00:00:00</td>\n",
       "      <td>2019-08-28</td>\n",
       "      <td>1989-09-01</td>\n",
       "      <td>1989-09-01</td>\n",
       "      <td>31</td>\n",
       "      <td>30-34</td>\n",
       "      <td>1516.32739</td>\n",
       "      <td>23952.43818</td>\n",
       "      <td>415</td>\n",
       "    </tr>\n",
       "    <tr>\n",
       "      <th>2</th>\n",
       "      <td>482589</td>\n",
       "      <td>231904</td>\n",
       "      <td>2017-01-31</td>\n",
       "      <td>G</td>\n",
       "      <td>TAHOE</td>\n",
       "      <td>Black</td>\n",
       "      <td>30488.93468</td>\n",
       "      <td>0.06047</td>\n",
       "      <td>2017</td>\n",
       "      <td>84</td>\n",
       "      <td>M</td>\n",
       "      <td>98/10/02 00:00:00</td>\n",
       "      <td>2017-01-31</td>\n",
       "      <td>1998-10-02</td>\n",
       "      <td>1980-12-01</td>\n",
       "      <td>40</td>\n",
       "      <td>40-44</td>\n",
       "      <td>1843.52053</td>\n",
       "      <td>32332.45521</td>\n",
       "      <td>130</td>\n",
       "    </tr>\n",
       "    <tr>\n",
       "      <th>3</th>\n",
       "      <td>482589</td>\n",
       "      <td>231904</td>\n",
       "      <td>2017-01-31</td>\n",
       "      <td>G</td>\n",
       "      <td>TAHOE</td>\n",
       "      <td>Black</td>\n",
       "      <td>30488.93468</td>\n",
       "      <td>0.06047</td>\n",
       "      <td>2017</td>\n",
       "      <td>84</td>\n",
       "      <td>M</td>\n",
       "      <td>98/10/02 00:00:00</td>\n",
       "      <td>2017-01-31</td>\n",
       "      <td>1998-10-02</td>\n",
       "      <td>1980-12-01</td>\n",
       "      <td>40</td>\n",
       "      <td>40-44</td>\n",
       "      <td>1843.52053</td>\n",
       "      <td>32332.45521</td>\n",
       "      <td>131</td>\n",
       "    </tr>\n",
       "    <tr>\n",
       "      <th>4</th>\n",
       "      <td>482589</td>\n",
       "      <td>231904</td>\n",
       "      <td>2017-01-31</td>\n",
       "      <td>G</td>\n",
       "      <td>TAHOE</td>\n",
       "      <td>Black</td>\n",
       "      <td>30488.93468</td>\n",
       "      <td>0.06047</td>\n",
       "      <td>2017</td>\n",
       "      <td>84</td>\n",
       "      <td>M</td>\n",
       "      <td>98/10/02 00:00:00</td>\n",
       "      <td>2017-01-31</td>\n",
       "      <td>1998-10-02</td>\n",
       "      <td>1980-12-01</td>\n",
       "      <td>40</td>\n",
       "      <td>40-44</td>\n",
       "      <td>1843.52053</td>\n",
       "      <td>32332.45521</td>\n",
       "      <td>132</td>\n",
       "    </tr>\n",
       "  </tbody>\n",
       "</table>\n",
       "</div>"
      ],
      "text/plain": [
       "   CUSTOMERID  VEHICLEID TRANSACTION_DATE BRAND     MODEL  \\\n",
       "0     2357269     243635       2017-12-27     D    MALIBU   \n",
       "1     1366119     262206       2019-08-28     G  TRAVERSE   \n",
       "2      482589     231904       2017-01-31     G     TAHOE   \n",
       "3      482589     231904       2017-01-31     G     TAHOE   \n",
       "4      482589     231904       2017-01-31     G     TAHOE   \n",
       "\n",
       "                COLOUR  ACTUAL_PRICE  DISCOUNTED RATIO  MODELYR  STORECODE  \\\n",
       "0  Coppertino Metallic   14654.95175           0.06437     2018         88   \n",
       "1         Summit White   22436.11079           0.06758     2019         71   \n",
       "2                Black   30488.93468           0.06047     2017         84   \n",
       "3                Black   30488.93468           0.06047     2017         84   \n",
       "4                Black   30488.93468           0.06047     2017         84   \n",
       "\n",
       "  GENDER     CUS_BIRTH_DATE TRANSACTION_DATE_1 CUS_BIRTH_DATE_1  \\\n",
       "0      F  95/02/12 00:00:00         2017-12-27       1995-02-12   \n",
       "1      F  89/09/01 00:00:00         2019-08-28       1989-09-01   \n",
       "2      M  98/10/02 00:00:00         2017-01-31       1998-10-02   \n",
       "3      M  98/10/02 00:00:00         2017-01-31       1998-10-02   \n",
       "4      M  98/10/02 00:00:00         2017-01-31       1998-10-02   \n",
       "\n",
       "  CUS_BIRTH_DATE_2  age age_bucket  profit_gain  selling_price  transaction_id  \n",
       "0       1986-11-30   34      30-34    943.36906    15598.32081             750  \n",
       "1       1989-09-01   31      30-34   1516.32739    23952.43818             415  \n",
       "2       1980-12-01   40      40-44   1843.52053    32332.45521             130  \n",
       "3       1980-12-01   40      40-44   1843.52053    32332.45521             131  \n",
       "4       1980-12-01   40      40-44   1843.52053    32332.45521             132  "
      ]
     },
     "execution_count": 169,
     "metadata": {},
     "output_type": "execute_result"
    }
   ],
   "source": [
    "DOB.head()"
   ]
  },
  {
   "cell_type": "code",
   "execution_count": 171,
   "metadata": {},
   "outputs": [
    {
     "data": {
      "text/html": [
       "<div>\n",
       "<style scoped>\n",
       "    .dataframe tbody tr th:only-of-type {\n",
       "        vertical-align: middle;\n",
       "    }\n",
       "\n",
       "    .dataframe tbody tr th {\n",
       "        vertical-align: top;\n",
       "    }\n",
       "\n",
       "    .dataframe thead th {\n",
       "        text-align: right;\n",
       "    }\n",
       "</style>\n",
       "<table border=\"1\" class=\"dataframe\">\n",
       "  <thead>\n",
       "    <tr style=\"text-align: right;\">\n",
       "      <th></th>\n",
       "      <th>age_bucket</th>\n",
       "      <th>CUSTOMERID</th>\n",
       "      <th>transaction_id</th>\n",
       "      <th>selling_price</th>\n",
       "    </tr>\n",
       "  </thead>\n",
       "  <tbody>\n",
       "    <tr>\n",
       "      <th>0</th>\n",
       "      <td>18-24</td>\n",
       "      <td>302</td>\n",
       "      <td>308</td>\n",
       "      <td>9349688.60109</td>\n",
       "    </tr>\n",
       "    <tr>\n",
       "      <th>1</th>\n",
       "      <td>25-29</td>\n",
       "      <td>260</td>\n",
       "      <td>264</td>\n",
       "      <td>7634575.90382</td>\n",
       "    </tr>\n",
       "    <tr>\n",
       "      <th>2</th>\n",
       "      <td>30-34</td>\n",
       "      <td>299</td>\n",
       "      <td>309</td>\n",
       "      <td>9666222.06791</td>\n",
       "    </tr>\n",
       "    <tr>\n",
       "      <th>3</th>\n",
       "      <td>35-39</td>\n",
       "      <td>266</td>\n",
       "      <td>295</td>\n",
       "      <td>18224263.42570</td>\n",
       "    </tr>\n",
       "    <tr>\n",
       "      <th>4</th>\n",
       "      <td>40-44</td>\n",
       "      <td>197</td>\n",
       "      <td>238</td>\n",
       "      <td>68220954.40362</td>\n",
       "    </tr>\n",
       "  </tbody>\n",
       "</table>\n",
       "</div>"
      ],
      "text/plain": [
       "  age_bucket  CUSTOMERID  transaction_id  selling_price\n",
       "0      18-24         302             308  9349688.60109\n",
       "1      25-29         260             264  7634575.90382\n",
       "2      30-34         299             309  9666222.06791\n",
       "3      35-39         266             295 18224263.42570\n",
       "4      40-44         197             238 68220954.40362"
      ]
     },
     "execution_count": 171,
     "metadata": {},
     "output_type": "execute_result"
    }
   ],
   "source": [
    "# car model\n",
    "age_bucket_rfm= DOB.groupby('age_bucket').agg({'CUSTOMERID': lambda num: len(np.unique(num)),\n",
    "                                                            'transaction_id': lambda num: len(np.unique(num)),\n",
    "                                                            'selling_price': lambda price: price.sum()\n",
    "                                                                }).reset_index()\n",
    "\n",
    "age_bucket_rfm.head()"
   ]
  },
  {
   "cell_type": "code",
   "execution_count": 172,
   "metadata": {},
   "outputs": [],
   "source": [
    "age_bucket_rfm.columns = ['age_bucket', 'uniques_CUSTOMERID', 'Frequency',\"Sum_amount\"]"
   ]
  },
  {
   "cell_type": "code",
   "execution_count": 173,
   "metadata": {},
   "outputs": [
    {
     "data": {
      "text/html": [
       "<div>\n",
       "<style scoped>\n",
       "    .dataframe tbody tr th:only-of-type {\n",
       "        vertical-align: middle;\n",
       "    }\n",
       "\n",
       "    .dataframe tbody tr th {\n",
       "        vertical-align: top;\n",
       "    }\n",
       "\n",
       "    .dataframe thead th {\n",
       "        text-align: right;\n",
       "    }\n",
       "</style>\n",
       "<table border=\"1\" class=\"dataframe\">\n",
       "  <thead>\n",
       "    <tr style=\"text-align: right;\">\n",
       "      <th></th>\n",
       "      <th>age_bucket</th>\n",
       "      <th>uniques_CUSTOMERID</th>\n",
       "      <th>Frequency</th>\n",
       "      <th>Sum_amount</th>\n",
       "      <th>average_customer_spending</th>\n",
       "      <th>average_transaction_per_customer</th>\n",
       "    </tr>\n",
       "  </thead>\n",
       "  <tbody>\n",
       "    <tr>\n",
       "      <th>0</th>\n",
       "      <td>18-24</td>\n",
       "      <td>302</td>\n",
       "      <td>308</td>\n",
       "      <td>9349688.60109</td>\n",
       "      <td>30959.23378</td>\n",
       "      <td>1.01987</td>\n",
       "    </tr>\n",
       "    <tr>\n",
       "      <th>1</th>\n",
       "      <td>25-29</td>\n",
       "      <td>260</td>\n",
       "      <td>264</td>\n",
       "      <td>7634575.90382</td>\n",
       "      <td>29363.75348</td>\n",
       "      <td>1.01538</td>\n",
       "    </tr>\n",
       "    <tr>\n",
       "      <th>2</th>\n",
       "      <td>30-34</td>\n",
       "      <td>299</td>\n",
       "      <td>309</td>\n",
       "      <td>9666222.06791</td>\n",
       "      <td>32328.50190</td>\n",
       "      <td>1.03344</td>\n",
       "    </tr>\n",
       "    <tr>\n",
       "      <th>3</th>\n",
       "      <td>35-39</td>\n",
       "      <td>266</td>\n",
       "      <td>295</td>\n",
       "      <td>18224263.42570</td>\n",
       "      <td>68512.26852</td>\n",
       "      <td>1.10902</td>\n",
       "    </tr>\n",
       "    <tr>\n",
       "      <th>4</th>\n",
       "      <td>40-44</td>\n",
       "      <td>197</td>\n",
       "      <td>238</td>\n",
       "      <td>68220954.40362</td>\n",
       "      <td>346299.26093</td>\n",
       "      <td>1.20812</td>\n",
       "    </tr>\n",
       "    <tr>\n",
       "      <th>5</th>\n",
       "      <td>45+</td>\n",
       "      <td>133</td>\n",
       "      <td>171</td>\n",
       "      <td>33512697.98301</td>\n",
       "      <td>251975.17280</td>\n",
       "      <td>1.28571</td>\n",
       "    </tr>\n",
       "  </tbody>\n",
       "</table>\n",
       "</div>"
      ],
      "text/plain": [
       "  age_bucket  uniques_CUSTOMERID  Frequency     Sum_amount  \\\n",
       "0      18-24                 302        308  9349688.60109   \n",
       "1      25-29                 260        264  7634575.90382   \n",
       "2      30-34                 299        309  9666222.06791   \n",
       "3      35-39                 266        295 18224263.42570   \n",
       "4      40-44                 197        238 68220954.40362   \n",
       "5        45+                 133        171 33512697.98301   \n",
       "\n",
       "   average_customer_spending  average_transaction_per_customer  \n",
       "0                30959.23378                           1.01987  \n",
       "1                29363.75348                           1.01538  \n",
       "2                32328.50190                           1.03344  \n",
       "3                68512.26852                           1.10902  \n",
       "4               346299.26093                           1.20812  \n",
       "5               251975.17280                           1.28571  "
      ]
     },
     "execution_count": 173,
     "metadata": {},
     "output_type": "execute_result"
    }
   ],
   "source": [
    "# car model\n",
    "# average customer spending\n",
    "age_bucket_rfm['average_customer_spending'] = age_bucket_rfm['Sum_amount']  / age_bucket_rfm['uniques_CUSTOMERID']\n",
    "age_bucket_rfm['average_transaction_per_customer'] = age_bucket_rfm['Frequency']  / age_bucket_rfm['uniques_CUSTOMERID']\n",
    "\n",
    "\n",
    "age_bucket_rfm"
   ]
  },
  {
   "cell_type": "code",
   "execution_count": 180,
   "metadata": {},
   "outputs": [
    {
     "data": {
      "text/html": [
       "<div>\n",
       "<style scoped>\n",
       "    .dataframe tbody tr th:only-of-type {\n",
       "        vertical-align: middle;\n",
       "    }\n",
       "\n",
       "    .dataframe tbody tr th {\n",
       "        vertical-align: top;\n",
       "    }\n",
       "\n",
       "    .dataframe thead th {\n",
       "        text-align: right;\n",
       "    }\n",
       "</style>\n",
       "<table border=\"1\" class=\"dataframe\">\n",
       "  <thead>\n",
       "    <tr style=\"text-align: right;\">\n",
       "      <th></th>\n",
       "      <th>age_bucket</th>\n",
       "      <th>ACTUAL_PRICE</th>\n",
       "    </tr>\n",
       "  </thead>\n",
       "  <tbody>\n",
       "    <tr>\n",
       "      <th>0</th>\n",
       "      <td>18-24</td>\n",
       "      <td>25029.82820</td>\n",
       "    </tr>\n",
       "    <tr>\n",
       "      <th>1</th>\n",
       "      <td>25-29</td>\n",
       "      <td>25443.87784</td>\n",
       "    </tr>\n",
       "    <tr>\n",
       "      <th>2</th>\n",
       "      <td>30-34</td>\n",
       "      <td>23059.23127</td>\n",
       "    </tr>\n",
       "    <tr>\n",
       "      <th>3</th>\n",
       "      <td>35-39</td>\n",
       "      <td>23786.19453</td>\n",
       "    </tr>\n",
       "    <tr>\n",
       "      <th>4</th>\n",
       "      <td>40-44</td>\n",
       "      <td>25954.48755</td>\n",
       "    </tr>\n",
       "    <tr>\n",
       "      <th>5</th>\n",
       "      <td>45+</td>\n",
       "      <td>26444.29270</td>\n",
       "    </tr>\n",
       "  </tbody>\n",
       "</table>\n",
       "</div>"
      ],
      "text/plain": [
       "  age_bucket  ACTUAL_PRICE\n",
       "0      18-24   25029.82820\n",
       "1      25-29   25443.87784\n",
       "2      30-34   23059.23127\n",
       "3      35-39   23786.19453\n",
       "4      40-44   25954.48755\n",
       "5        45+   26444.29270"
      ]
     },
     "execution_count": 180,
     "metadata": {},
     "output_type": "execute_result"
    }
   ],
   "source": [
    "DOB.groupby(['age_bucket']).agg({'ACTUAL_PRICE': 'mean'}).reset_index()"
   ]
  },
  {
   "cell_type": "code",
   "execution_count": null,
   "metadata": {},
   "outputs": [],
   "source": []
  }
 ],
 "metadata": {
  "kernelspec": {
   "display_name": "Python 3",
   "language": "python",
   "name": "python3"
  },
  "language_info": {
   "codemirror_mode": {
    "name": "ipython",
    "version": 3
   },
   "file_extension": ".py",
   "mimetype": "text/x-python",
   "name": "python",
   "nbconvert_exporter": "python",
   "pygments_lexer": "ipython3",
   "version": "3.6.4"
  }
 },
 "nbformat": 4,
 "nbformat_minor": 2
}
